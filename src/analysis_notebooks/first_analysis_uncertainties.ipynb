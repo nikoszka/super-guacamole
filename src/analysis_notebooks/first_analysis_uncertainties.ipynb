{
 "cells": [
  {
   "cell_type": "code",
   "id": "initial_id",
   "metadata": {
    "collapsed": true,
    "ExecuteTime": {
     "end_time": "2025-04-18T10:09:36.888615Z",
     "start_time": "2025-04-18T10:09:35.196906Z"
    }
   },
   "source": [
    "import pandas as pd\n",
    "import numpy as np\n",
    "from sklearn.metrics import roc_auc_score\n",
    "import pickle\n"
   ],
   "outputs": [],
   "execution_count": 1
  },
  {
   "metadata": {
    "ExecuteTime": {
     "end_time": "2025-04-17T09:25:58.662629Z",
     "start_time": "2025-04-17T09:25:58.659383Z"
    }
   },
   "cell_type": "code",
   "source": [
    "# read pickle as dataframe\n",
    "pickle_path = \"../nikos/uncertainty/wandb/run-20250414_225134-35cwfjoe/files/train_generations.pkl\""
   ],
   "id": "1d4992a0ddf44260",
   "outputs": [],
   "execution_count": 18
  },
  {
   "metadata": {
    "ExecuteTime": {
     "end_time": "2025-04-17T10:31:21.244637Z",
     "start_time": "2025-04-17T10:31:21.236573Z"
    }
   },
   "cell_type": "code",
   "source": [
    "def compare_gnll_vs_prob_auroc(pickle_path, verbose=False):\n",
    "    with open(pickle_path, 'rb') as f:\n",
    "        data = pickle.load(f)\n",
    "\n",
    "    y_true = []\n",
    "    gnll_uncertainties = []\n",
    "    conf_uncertainties = []\n",
    "    nll_diffs = []\n",
    "\n",
    "    total = 0\n",
    "    correct = 0\n",
    "\n",
    "    for example_id, entry in data.items():\n",
    "        pred_answer = entry['most_likely_answer']['response'].strip().lower()\n",
    "        true_answers = [ans.strip().lower() for ans in entry['reference']['answers']['text']]\n",
    "        is_correct = int(pred_answer in true_answers)\n",
    "        y_true.append(is_correct)\n",
    "\n",
    "        total += 1\n",
    "        correct += is_correct\n",
    "\n",
    "        # === Recalculate G-NLL ===\n",
    "        token_log_likelihoods = entry['most_likely_answer']['token_log_likelihoods']\n",
    "        computed_sequence_nll = -sum(token_log_likelihoods)\n",
    "        gnll_uncertainties.append(computed_sequence_nll)\n",
    "\n",
    "        # === Confidence-based uncertainty (1 - sequence_prob) ===\n",
    "        try:\n",
    "            sequence_prob = float(entry['most_likely_answer']['sequence_prob'])\n",
    "        except (ValueError, TypeError):\n",
    "            sequence_prob = math.exp(-computed_sequence_nll)  # fallback\n",
    "\n",
    "        conf_uncertainty = 1.0 - sequence_prob\n",
    "        conf_uncertainties.append(conf_uncertainty)\n",
    "\n",
    "        # === Compare with stored NLL (optional) ===\n",
    "        stored_sequence_nll = float(entry['most_likely_answer']['sequence_nll'])\n",
    "        nll_diff = abs(computed_sequence_nll - stored_sequence_nll)\n",
    "        nll_diffs.append(nll_diff)\n",
    "\n",
    "        if verbose and nll_diff > 1e-6:\n",
    "            print(f\"[{example_id}] Mismatch in sequence NLL:\")\n",
    "            print(f\"  Computed: {computed_sequence_nll}\")\n",
    "            print(f\"  Stored:   {stored_sequence_nll}\")\n",
    "            print(f\"  Δ = {nll_diff:.6f}\")\n",
    "\n",
    "    # === Compute AUROCs ===\n",
    "    try:\n",
    "        gnll_auroc = roc_auc_score(y_true, gnll_uncertainties)\n",
    "        prob_auroc = roc_auc_score(y_true, conf_uncertainties)\n",
    "    except ValueError as e:\n",
    "        print(f\"Error computing AUROC: {e}\")\n",
    "        gnll_auroc, prob_auroc = None, None\n",
    "\n",
    "    accuracy = correct / total if total > 0 else 0\n",
    "\n",
    "    return {\n",
    "        'G-NLL_AUROC': gnll_auroc,\n",
    "        'Confidence_AUROC': prob_auroc,\n",
    "        'Accuracy': accuracy,\n",
    "        'avg_NLL_diff': sum(nll_diffs)/len(nll_diffs) if nll_diffs else 0\n",
    "    }"
   ],
   "id": "f325740270fe58dd",
   "outputs": [],
   "execution_count": 33
  },
  {
   "metadata": {
    "ExecuteTime": {
     "end_time": "2025-04-17T10:31:21.798288Z",
     "start_time": "2025-04-17T10:31:21.751837Z"
    }
   },
   "cell_type": "code",
   "source": [
    "results = compare_gnll_vs_prob_auroc(pickle_path, verbose=False)\n",
    "print(\"Accuracy:\", results['Accuracy'])\n",
    "print(\"G-NLL AUROC:\", results['G-NLL_AUROC'])\n",
    "print(\"Confidence AUROC (1 - sequence_prob):\", results['Confidence_AUROC'])"
   ],
   "id": "30b8ab7e4b409fa1",
   "outputs": [
    {
     "name": "stdout",
     "output_type": "stream",
     "text": [
      "Accuracy: 0.245\n",
      "G-NLL AUROC: 0.15562913907284767\n",
      "Confidence AUROC (1 - sequence_prob): 0.15562913907284767\n"
     ]
    }
   ],
   "execution_count": 34
  },
  {
   "metadata": {},
   "cell_type": "code",
   "outputs": [],
   "execution_count": null,
   "source": "",
   "id": "6141c8906ea3978e"
  },
  {
   "metadata": {},
   "cell_type": "code",
   "outputs": [],
   "execution_count": null,
   "source": "",
   "id": "af5c322bea590eca"
  }
 ],
 "metadata": {
  "kernelspec": {
   "display_name": "Python 3",
   "language": "python",
   "name": "python3"
  },
  "language_info": {
   "codemirror_mode": {
    "name": "ipython",
    "version": 2
   },
   "file_extension": ".py",
   "mimetype": "text/x-python",
   "name": "python",
   "nbconvert_exporter": "python",
   "pygments_lexer": "ipython2",
   "version": "2.7.6"
  }
 },
 "nbformat": 4,
 "nbformat_minor": 5
}
